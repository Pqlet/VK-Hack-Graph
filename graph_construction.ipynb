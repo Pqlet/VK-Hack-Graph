{
 "cells": [
  {
   "cell_type": "code",
   "execution_count": 1,
   "id": "f6b2f054",
   "metadata": {},
   "outputs": [],
   "source": [
    "import os\n",
    "\n",
    "import numpy as np\n",
    "import pandas as pd\n",
    "import matplotlib.pyplot as plt\n",
    "import seaborn as sns\n",
    "\n",
    "from tqdm.notebook import tqdm\n",
    "from collections import defaultdict\n",
    "\n",
    "from sklearn.metrics import roc_auc_score\n",
    "\n",
    "import torch\n",
    "import torch.nn as nn\n",
    "\n",
    "import torch_geometric\n",
    "from torch_geometric.data import Data\n",
    "\n",
    "sns.set(font_scale=1.3)"
   ]
  },
  {
   "cell_type": "code",
   "execution_count": 2,
   "id": "bf9443be",
   "metadata": {},
   "outputs": [],
   "source": [
    "targets = pd.read_csv('./data/FINAL_TARGETS_DATES_TRAINTEST.tsv', sep='\\t')\n",
    "compressed = pd.read_csv('./data/compressed.csv').drop(columns=['Unnamed: 0'])\n",
    "features = pd.read_csv('./data/FINAL_FEATURES_TRAINTEST.tsv', sep='\\t')[compressed.columns[compressed.columns != 'FRIEND_ID']]\n",
    "all_sequences = pd.read_csv('./data/FINAL_ALL_SEQUENCES_TRAINTEST.tsv', sep='\\t')\n",
    "\n",
    "users_data = targets.merge(features, on='CLIENT_ID', how='inner')"
   ]
  },
  {
   "cell_type": "code",
   "execution_count": null,
   "id": "89532f0e",
   "metadata": {},
   "outputs": [],
   "source": [
    "from sklearn.feature_extraction.text import CountVectorizer\n",
    "\n",
    "vec = CountVectorizer(binary=True)\n",
    "data = vec.fit_transform(all_sequences.SEQUENCE)"
   ]
  },
  {
   "cell_type": "code",
   "execution_count": null,
   "id": "667b750b",
   "metadata": {},
   "outputs": [],
   "source": [
    "vals = []\n",
    "new_rows = []\n",
    "new_cols = []\n",
    "for i in tqdm(range(data.shape[0] - 1)):\n",
    "    if (i + 1) % 1000 == 0:''\n",
    "        print(len(np.concatenate(vals)))\n",
    "\n",
    "    res = data[i].multiply(data)[i + 1:].sum(axis=1)\n",
    "    j = np.where(res > 40)[0]\n",
    "    vals.append(res[j])\n",
    "    new_rows.append([i] * len(j))\n",
    "    new_cols.append(j + i + 1)"
   ]
  },
  {
   "cell_type": "code",
   "execution_count": null,
   "id": "6078be3a",
   "metadata": {},
   "outputs": [],
   "source": [
    "new_rows_stacked = np.concatenate(new_rows)\n",
    "new_cols_stacked = np.concatenate(new_cols)\n",
    "weights = np.concatenate(vals)"
   ]
  },
  {
   "cell_type": "code",
   "execution_count": null,
   "id": "2c8643ff",
   "metadata": {},
   "outputs": [],
   "source": [
    "edges = np.stack((new_rows_stacked, new_cols_stacked), axis=0)\n",
    "edges.shape"
   ]
  },
  {
   "cell_type": "code",
   "execution_count": null,
   "id": "87cbb5b2",
   "metadata": {},
   "outputs": [],
   "source": [
    "np.save('edges.npy', edges)\n",
    "np.save('weights.npy', weights)"
   ]
  },
  {
   "cell_type": "code",
   "execution_count": 3,
   "id": "6762a2d3",
   "metadata": {},
   "outputs": [],
   "source": [
    "friends = compressed.iloc[:, 1:].rename(columns={'FRIEND_ID': 'CLIENT_ID'})"
   ]
  },
  {
   "cell_type": "code",
   "execution_count": 4,
   "id": "a61e84d5",
   "metadata": {},
   "outputs": [],
   "source": [
    "users_data = users_data.append(friends)"
   ]
  },
  {
   "cell_type": "code",
   "execution_count": 5,
   "id": "e9cd5700",
   "metadata": {},
   "outputs": [],
   "source": [
    "users_data['CLIENT_ID'] = users_data['CLIENT_ID'].astype(int)"
   ]
  },
  {
   "cell_type": "code",
   "execution_count": 6,
   "id": "930e59b7",
   "metadata": {},
   "outputs": [],
   "source": [
    "rest_id = list(set(users_data['CLIENT_ID'].values).difference(set(all_sequences['CLIENT_ID'].values)))\n",
    "idx_to_client = list(all_sequences['CLIENT_ID'].values) + rest_id\n",
    "client_to_idx = {v: i for i, v in enumerate(idx_to_client)}"
   ]
  },
  {
   "cell_type": "code",
   "execution_count": 10,
   "id": "3f9781e9",
   "metadata": {},
   "outputs": [],
   "source": [
    "import pickle\n",
    "\n",
    "with open('idx_to_client.pickle', 'wb') as handle:\n",
    "    pickle.dump(idx_to_client, handle, protocol=pickle.HIGHEST_PROTOCOL)\n",
    "\n",
    "with open('idx_to_client.pickle', 'rb') as handle:\n",
    "    idx_to_client = pickle.load(handle)"
   ]
  },
  {
   "cell_type": "code",
   "execution_count": 14,
   "id": "97929a58",
   "metadata": {},
   "outputs": [],
   "source": [
    "np.save('idx_to_client.npy', idx_to_client)"
   ]
  },
  {
   "cell_type": "code",
   "execution_count": 29,
   "id": "f3027a4f",
   "metadata": {},
   "outputs": [],
   "source": [
    "users_data['CLIENT_ID'] = users_data['CLIENT_ID'].apply(lambda x: client_to_idx[x])\n",
    "users_data['TARGET'] = users_data['TARGET'].fillna(-1)\n",
    "users_data['RETRO_DT'] = users_data['RETRO_DT'].fillna(-1)"
   ]
  },
  {
   "cell_type": "code",
   "execution_count": 30,
   "id": "057c8da9",
   "metadata": {},
   "outputs": [],
   "source": [
    "users_data = users_data.sort_values(by='CLIENT_ID')"
   ]
  },
  {
   "cell_type": "code",
   "execution_count": 31,
   "id": "f6aa93a7",
   "metadata": {},
   "outputs": [],
   "source": [
    "x = users_data.drop(columns=['CLIENT_ID', 'TARGET', 'RETRO_DT']).values\n",
    "y = users_data['TARGET'].values\n",
    "date = users_data['RETRO_DT'].values"
   ]
  },
  {
   "cell_type": "code",
   "execution_count": 32,
   "id": "c008bc76",
   "metadata": {},
   "outputs": [],
   "source": [
    "new_edges = compressed[['CLIENT_ID', 'FRIEND_ID']].copy()\n",
    "new_edges['CLIENT_ID'] = new_edges['CLIENT_ID'].apply(lambda x: client_to_idx[x])\n",
    "new_edges['FRIEND_ID'] = new_edges['FRIEND_ID'].apply(lambda x: client_to_idx[x])\n",
    "new_edges = new_edges.values.T"
   ]
  },
  {
   "cell_type": "code",
   "execution_count": 33,
   "id": "ea3ed711",
   "metadata": {},
   "outputs": [],
   "source": [
    "old_edges = np.load('./edges.npy').astype(int)\n",
    "old_weights = np.load('./weights.npy')[:, 0]"
   ]
  },
  {
   "cell_type": "code",
   "execution_count": 34,
   "id": "a3a3263c",
   "metadata": {},
   "outputs": [],
   "source": [
    "edges = np.concatenate((old_edges, new_edges), axis=1)\n",
    "edges = np.concatenate((edges, edges[::-1]), axis=1)\n",
    "weights = np.concatenate((old_weights, np.ones(edges.shape[1] - old_edges.shape[1])), axis=0)\n",
    "weights = np.concatenate((weights, weights), axis=0)"
   ]
  },
  {
   "cell_type": "code",
   "execution_count": 35,
   "id": "43b511e7",
   "metadata": {},
   "outputs": [
    {
     "data": {
      "text/plain": [
       "(1466558, 203)"
      ]
     },
     "execution_count": 35,
     "metadata": {},
     "output_type": "execute_result"
    }
   ],
   "source": [
    "users_data.shape"
   ]
  },
  {
   "cell_type": "code",
   "execution_count": 36,
   "id": "5e24d034",
   "metadata": {},
   "outputs": [],
   "source": [
    "np.save('./graph/nodes.npy', x)\n",
    "np.save('./graph/lables.npy', y)\n",
    "np.save('./graph/dates.npy', date)\n",
    "np.save('./graph/edges.npy', edges)\n",
    "np.save('./graph/weights.npy', weights)"
   ]
  },
  {
   "cell_type": "code",
   "execution_count": 37,
   "id": "836fc98f",
   "metadata": {},
   "outputs": [],
   "source": [
    "x = np.load('./graph/nodes.npy', allow_pickle=True)\n",
    "y = np.load('./graph/lables.npy', allow_pickle=True)\n",
    "date = np.load('./graph/dates.npy', allow_pickle=True)\n",
    "edges = np.load('./graph/edges.npy', allow_pickle=True)\n",
    "weights = np.load('./graph/weights.npy', allow_pickle=True)"
   ]
  },
  {
   "cell_type": "code",
   "execution_count": 38,
   "id": "d0d806a6",
   "metadata": {},
   "outputs": [
    {
     "data": {
      "text/plain": [
       "((1466558, 200), (1466558,), (1466558,), (2, 3014878), (6029756,))"
      ]
     },
     "execution_count": 38,
     "metadata": {},
     "output_type": "execute_result"
    }
   ],
   "source": [
    "x.shape, y.shape, date.shape, edges.shape, weights.shape"
   ]
  }
 ],
 "metadata": {
  "kernelspec": {
   "display_name": "Python 3 (ipykernel)",
   "language": "python",
   "name": "python3"
  },
  "language_info": {
   "codemirror_mode": {
    "name": "ipython",
    "version": 3
   },
   "file_extension": ".py",
   "mimetype": "text/x-python",
   "name": "python",
   "nbconvert_exporter": "python",
   "pygments_lexer": "ipython3",
   "version": "3.8.9"
  }
 },
 "nbformat": 4,
 "nbformat_minor": 5
}
